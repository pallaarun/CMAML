{
 "cells": [
  {
   "cell_type": "markdown",
   "id": "5480d53a-d66d-436c-88b2-115bc7582ea5",
   "metadata": {
    "jp-MarkdownHeadingCollapsed": true,
    "tags": []
   },
   "source": [
    "## ACDC dataset"
   ]
  },
  {
   "cell_type": "code",
   "execution_count": 1,
   "id": "df7e1792-0355-4f17-8b7c-8e5a4e8cc9be",
   "metadata": {},
   "outputs": [],
   "source": [
    "import os\n",
    "# import sys\n",
    "import h5py\n",
    "import numpy as np\n",
    "import nibabel as nib\n",
    "from tqdm import tqdm\n",
    "from fnmatch import fnmatch\n",
    "\n",
    "from matplotlib import pyplot as plt\n",
    "from ipywidgets import interact,fixed"
   ]
  },
  {
   "cell_type": "code",
   "execution_count": 2,
   "id": "b64fcf27-cc5a-48c8-aff4-d42ef401f596",
   "metadata": {},
   "outputs": [
    {
     "name": "stdout",
     "output_type": "stream",
     "text": [
      "No of volumes:100\n"
     ]
    }
   ],
   "source": [
    "root = \"/home/arun/datasets/ACDC_training/\"\n",
    "out_path = root+\"h5/\"\n",
    "pattern = '*_4d.nii.gz'\n",
    "\n",
    "volume_list = []\n",
    "\n",
    "dirnames = list(os.walk(root))\n",
    "\n",
    "for path, subdirs, files in os.walk(root):\n",
    "\n",
    "    for name in files:\n",
    "        \n",
    "        if fnmatch(name, pattern):\n",
    "            volume_path = os.path.join(path, name)\n",
    "            volume_list.append(volume_path)\n",
    "\n",
    "print (\"No of volumes:{}\".format(len(volume_list)))"
   ]
  },
  {
   "cell_type": "code",
   "execution_count": 3,
   "id": "09074175-7281-495b-bd00-36ed6827eae3",
   "metadata": {
    "tags": []
   },
   "outputs": [
    {
     "name": "stderr",
     "output_type": "stream",
     "text": [
      "100%|█████████████████████████████████████████| 100/100 [02:06<00:00,  1.26s/it]\n"
     ]
    }
   ],
   "source": [
    "# for iter,vol_path in enumerate(tqdm(volume_list)):\n",
    "\n",
    "#     inp_vol_path = vol_path \n",
    "#     imgvol  = nib.load(inp_vol_path)\n",
    "#     imgvol_data_flipped = imgvol.get_fdata()\n",
    "    \n",
    "#     imgvol_data = np.flip(imgvol_data_flipped,axis=1)\n",
    "\n",
    "#     start_slice = 30\n",
    "#     end_slice   = imgvol_data.shape[0] - 70\n",
    "\n",
    "#     imgvol = imgvol_data[8:248,16:256,start_slice:end_slice]\n",
    "#     #imgvol = imgvol_data[start_slice:end_slice,:,:]\n",
    "#     #imgvol = np.transpose(imgvol,(1,2,0))\n",
    "\n",
    "#     save_path = os.path.join(out_path,'{}.h5'.format(iter))\n",
    "    \n",
    "#     # with h5py.File(save_path,'w') as f:\n",
    "#     #     f.create_dataset('inpVol',data=imgvol)\n",
    "\n",
    "\n",
    "for iter,vol_path in enumerate(tqdm(volume_list)):\n",
    "\n",
    "    inp_vol_path = vol_path\n",
    "    patient_name = inp_vol_path.split(\"/\")[-1].split(\".\")[0]\n",
    "    \n",
    "    splits = inp_vol_path.split(\"/\")\n",
    "    splits[-1] = \"Info.cfg\"\n",
    "    cfg_path = '/'.join(splits)\n",
    "    \n",
    "    with open(cfg_path) as f:\n",
    "        lines = f.readlines()\n",
    "    \n",
    "    ED_start_frame = lines[0][-2]\n",
    "    \n",
    "    splits = inp_vol_path.split(\"/\")\n",
    "    splits[-1] = splits[-2]+\"_frame0{}_gt.nii.gz\".format(ED_start_frame)\n",
    "    gt_vol_path = '/'.join(splits)    \n",
    "    \n",
    "    imgvol  = nib.load(inp_vol_path)\n",
    "    imgvol = imgvol.get_fdata()\n",
    "    \n",
    "    gtvol = nib.load(gt_vol_path)\n",
    "    gtvol = gtvol.get_fdata()\n",
    "    \n",
    "    gtvol[gtvol > 0] = 1\n",
    "    x_ind,y_ind,z_ind = np.where(gtvol)\n",
    "    \n",
    "    min_x_ind = np.min(x_ind)\n",
    "    max_x_ind = np.max(x_ind)\n",
    "    x_center = int((min_x_ind+max_x_ind)/2)\n",
    "\n",
    "    min_y_ind = np.min(y_ind)\n",
    "    max_y_ind = np.max(y_ind)\n",
    "    y_center = int((min_y_ind+max_y_ind)/2)\n",
    "    \n",
    "    _,_,no_of_slices,no_of_frames = imgvol.shape\n",
    "    \n",
    "    start_slice_no = 1\n",
    "    end_slice_no = no_of_slices-1\n",
    "    \n",
    "    start_frame_no = 1\n",
    "    end_frame_no = no_of_frames-1\n",
    "    \n",
    "    final_vol = imgvol[:,:,start_slice_no:end_slice_no,start_frame_no:end_frame_no]\n",
    "    \n",
    "    save_path = out_path+patient_name+\".h5\"\n",
    "    with h5py.File(save_path,'w') as f:\n",
    "        f.create_dataset('inpVol',data = final_vol)\n",
    "        f.create_dataset(\"x_center\",data = [x_center])\n",
    "        f.create_dataset(\"y_center\",data = [y_center])\n",
    "\n",
    "#     for slice_no in range(start_slice_no,end_slice_no):\n",
    "        \n",
    "#         frame_vol = imgvol[:,:,slice_no,start_frame_no:end_frame_no]\n",
    "        \n",
    "#         save_path = out_path+patient_name+\"_\"+\"{}.h5\".format(slice_no)\n",
    "    \n",
    "#         with h5py.File(save_path,'w') as f:\n",
    "#             f.create_dataset('inpVol',data=frame_vol)\n"
   ]
  },
  {
   "cell_type": "code",
   "execution_count": 4,
   "id": "80148e91-243e-4ee4-a403-fb021be6d277",
   "metadata": {},
   "outputs": [],
   "source": [
    "class slicer():\n",
    "    \n",
    "    def __init__(self,np_vol,crop_size):\n",
    "        \n",
    "        if np_vol.dtype == \"complex128\":\n",
    "            self.volume = np.abs(np_vol)\n",
    "        else:\n",
    "            self.volume = np_vol\n",
    "        \n",
    "        self.vol_dim = np_vol.shape\n",
    "        \n",
    "        self.height_center = int(self.vol_dim[0]/2)\n",
    "        self.width_center = int(self.vol_dim[1]/2)\n",
    "        \n",
    "        self.half_crop_size = int(crop_size/2)\n",
    "\n",
    "    def vol_4d_slice_view(self,vol,slice_view,slice_no_x,slice_no_y,slice_no_t,slice_no_z,fig_size_x,fig_size_y):\n",
    "        plt.figure(figsize=(fig_size_x,fig_size_y))\n",
    "        if slice_view == 'x':\n",
    "            plt.imshow(vol[slice_no_x,:,:,slice_no_t],cmap='gray')\n",
    "            plt.show()\n",
    "        elif slice_view == 'y':\n",
    "            plt.imshow(vol[:,slice_no_y,:,slice_no_t],cmap='gray')\n",
    "            plt.show()\n",
    "        \n",
    "        elif slice_view == 'z':\n",
    "            plt.imshow(vol[:,:,slice_no_z,slice_no_t],cmap='gray')\n",
    "            plt.show()\n",
    "\n",
    "        elif slice_view == 't':\n",
    "            plt.imshow(vol[:,:,slice_no_z,slice_no_t],cmap='gray')\n",
    "            plt.show()\n",
    "        \n",
    "    def vol_3d_slice_view(self,vol,slice_view,slice_no_x,slice_no_y,slice_no_z,fig_size_x,fig_size_y):\n",
    "        plt.figure(figsize=(fig_size_x,fig_size_y))\n",
    "        if slice_view == 'x':\n",
    "            plt.imshow(vol[slice_no_x,:,:],cmap='gray')\n",
    "            plt.show()\n",
    "        elif slice_view == 'y':\n",
    "            plt.imshow(vol[:,slice_no_y,:],cmap='gray')\n",
    "            plt.show()\n",
    "\n",
    "        elif slice_view == 'z':\n",
    "            plt.imshow(vol[:,:,slice_no_z],cmap='gray')\n",
    "            plt.show()\n",
    "            \n",
    "    def slicer_view(self):\n",
    "        if len(self.volume.shape) == 4:\n",
    "            slice_no_x_max = self.volume.shape[0]-1\n",
    "            slice_no_y_max = self.volume.shape[1]-1\n",
    "            slice_no_z_max = self.volume.shape[2]-1\n",
    "            slice_no_t_max = self.volume.shape[3]-1\n",
    "            return interact(self.vol_4d_slice_view,vol = fixed(self.volume),slice_view = ['z','t','x','y'],slice_no_x = (0,slice_no_x_max,1),slice_no_y = (0,slice_no_y_max,1),slice_no_z = (0,slice_no_z_max,1),slice_no_t = (0,slice_no_t_max,1),fig_size_x=(5,8),fig_size_y=(5,8))\n",
    "    \n",
    "        elif len(self.volume.shape) == 3:\n",
    "            slice_no_x_max = self.volume.shape[0]-1\n",
    "            slice_no_y_max = self.volume.shape[1]-1\n",
    "            slice_no_z_max = self.volume.shape[2]-1\n",
    "            return interact(self.vol_3d_slice_view,vol = fixed(self.volume),slice_view = ['z','x','y'],slice_no_x = (0,slice_no_x_max,1),slice_no_y = (0,slice_no_y_max,1),slice_no_z = (0,slice_no_z_max,1),fig_size_x=(5,8),fig_size_y=(5,8))"
   ]
  },
  {
   "cell_type": "code",
   "execution_count": 8,
   "id": "9c8b8e2d-2ac9-4909-9f15-3012e29ef203",
   "metadata": {},
   "outputs": [
    {
     "data": {
      "application/vnd.jupyter.widget-view+json": {
       "model_id": "d1c2357e1c934eaca7e35ac607aaed69",
       "version_major": 2,
       "version_minor": 0
      },
      "text/plain": [
       "interactive(children=(Dropdown(description='slice_view', options=('z', 't', 'x', 'y'), value='z'), IntSlider(v…"
      ]
     },
     "metadata": {},
     "output_type": "display_data"
    },
    {
     "data": {
      "text/plain": [
       "<function ipywidgets.widgets.interaction._InteractFactory.__call__.<locals>.<lambda>(*args, **kwargs)>"
      ]
     },
     "execution_count": 8,
     "metadata": {},
     "output_type": "execute_result"
    }
   ],
   "source": [
    "f = h5py.File(\"/home/arun/datasets/ACDC_training/h5/patient066_4d.h5\",'r')\n",
    "np_data = f[\"inpVol\"]\n",
    "\n",
    "slice_viewer = slicer(np_data,crop_size = 154)\n",
    "slice_viewer.slicer_view()"
   ]
  },
  {
   "cell_type": "code",
   "execution_count": 12,
   "id": "56806943-946e-407c-9ef2-b55a513b0df1",
   "metadata": {},
   "outputs": [],
   "source": [
    "f.close()"
   ]
  },
  {
   "cell_type": "code",
   "execution_count": null,
   "id": "f9bf8d41-1f58-40cf-b4da-2af568b41b95",
   "metadata": {},
   "outputs": [],
   "source": []
  },
  {
   "cell_type": "markdown",
   "id": "ba52faf9-7770-4096-8819-c83a22cde0ac",
   "metadata": {
    "jp-MarkdownHeadingCollapsed": true,
    "tags": []
   },
   "source": [
    "## M&M dataset"
   ]
  },
  {
   "cell_type": "code",
   "execution_count": 1,
   "id": "85aafc18-9487-4078-9105-87002b14315c",
   "metadata": {},
   "outputs": [],
   "source": [
    "import os\n",
    "# import sys\n",
    "import h5py\n",
    "import numpy as np\n",
    "import nibabel as nib\n",
    "from tqdm import tqdm\n",
    "from fnmatch import fnmatch\n",
    "\n",
    "from matplotlib import pyplot as plt\n",
    "from ipywidgets import interact,fixed"
   ]
  },
  {
   "cell_type": "code",
   "execution_count": 2,
   "id": "959719d3-94b8-4a6e-b9e8-3407ceacd2f8",
   "metadata": {},
   "outputs": [
    {
     "name": "stdout",
     "output_type": "stream",
     "text": [
      "No of volumes:150\n"
     ]
    }
   ],
   "source": [
    "root = \"/home/arun/datasets/M_M/Training/Labeled/\"\n",
    "out_path = root+\"h5/\"\n",
    "pattern = '*_sa.nii.gz'\n",
    "\n",
    "volume_list = []\n",
    "\n",
    "dirnames = list(os.walk(root))\n",
    "\n",
    "for path, subdirs, files in os.walk(root):\n",
    "\n",
    "    for name in files:\n",
    "        \n",
    "        if fnmatch(name, pattern):\n",
    "            volume_path = os.path.join(path, name)\n",
    "            volume_list.append(volume_path)\n",
    "\n",
    "print (\"No of volumes:{}\".format(len(volume_list)))"
   ]
  },
  {
   "cell_type": "code",
   "execution_count": 3,
   "id": "6a987899-0b06-4af2-b895-c6d0fdbb668d",
   "metadata": {},
   "outputs": [
    {
     "name": "stderr",
     "output_type": "stream",
     "text": [
      "100%|█████████████████████████████████████████| 150/150 [04:14<00:00,  1.70s/it]\n"
     ]
    }
   ],
   "source": [
    "for iter,vol_path in enumerate(tqdm(volume_list)):\n",
    "\n",
    "    inp_vol_path = vol_path\n",
    "    patient_name = inp_vol_path.split(\"/\")[-1].split(\".\")[0]\n",
    "\n",
    "    splits = vol_path.split(\".\")\n",
    "    gt_vol_path = splits[0]+\"_gt.\"+splits[1]+\".\"+splits[2]\n",
    "\n",
    "    imgvol  = nib.load(inp_vol_path)\n",
    "    imgvol = imgvol.get_fdata()\n",
    "    \n",
    "    gtvol = nib.load(gt_vol_path)\n",
    "    gtvol = gtvol.get_fdata()\n",
    "    \n",
    "    gtvol[gtvol > 0] = 1\n",
    "    x_ind,y_ind,z_ind,_ = np.where(gtvol)\n",
    "    \n",
    "    min_x_ind = np.min(x_ind)\n",
    "    max_x_ind = np.max(x_ind)\n",
    "    x_center = int((min_x_ind+max_x_ind)/2)\n",
    "\n",
    "    min_y_ind = np.min(y_ind)\n",
    "    max_y_ind = np.max(y_ind)\n",
    "    y_center = int((min_y_ind+max_y_ind)/2)\n",
    "    \n",
    "    _,_,no_of_slices,no_of_frames = imgvol.shape\n",
    "    \n",
    "    start_slice_no = 1\n",
    "    end_slice_no = no_of_slices-1\n",
    "    \n",
    "    start_frame_no = 1\n",
    "    end_frame_no = no_of_frames-1\n",
    "    \n",
    "    final_vol = imgvol[:,:,start_slice_no:end_slice_no,start_frame_no:end_frame_no]\n",
    "    \n",
    "    save_path = out_path+patient_name+\".h5\"\n",
    "    with h5py.File(save_path,'w') as f:\n",
    "        f.create_dataset('inpVol',data = final_vol)\n",
    "        f.create_dataset(\"x_center\",data = [x_center])\n",
    "        f.create_dataset(\"y_center\",data = [y_center])"
   ]
  },
  {
   "cell_type": "code",
   "execution_count": 4,
   "id": "dad4e308-16f5-4ce0-904b-2cbb821453d6",
   "metadata": {},
   "outputs": [],
   "source": [
    "class slicer():\n",
    "    \n",
    "    def __init__(self,np_vol,crop_size):\n",
    "        \n",
    "        if np_vol.dtype == \"complex128\":\n",
    "            self.volume = np.abs(np_vol)\n",
    "        else:\n",
    "            self.volume = np_vol\n",
    "        \n",
    "        self.vol_dim = np_vol.shape\n",
    "        \n",
    "        self.height_center = int(self.vol_dim[0]/2)\n",
    "        self.width_center = int(self.vol_dim[1]/2)\n",
    "        \n",
    "        self.half_crop_size = int(crop_size/2)\n",
    "\n",
    "    def vol_4d_slice_view(self,vol,slice_view,slice_no_x,slice_no_y,slice_no_t,slice_no_z,fig_size_x,fig_size_y):\n",
    "        plt.figure(figsize=(fig_size_x,fig_size_y))\n",
    "        if slice_view == 'x':\n",
    "            plt.imshow(vol[slice_no_x,:,:,slice_no_t],cmap='gray')\n",
    "            plt.show()\n",
    "        elif slice_view == 'y':\n",
    "            plt.imshow(vol[:,slice_no_y,:,slice_no_t],cmap='gray')\n",
    "            plt.show()\n",
    "        \n",
    "        elif slice_view == 'z':\n",
    "            plt.imshow(vol[:,:,slice_no_z,slice_no_t],cmap='gray')\n",
    "            plt.show()\n",
    "\n",
    "        elif slice_view == 't':\n",
    "            plt.imshow(vol[:,:,slice_no_z,slice_no_t],cmap='gray')\n",
    "            plt.show()\n",
    "        \n",
    "    def vol_3d_slice_view(self,vol,slice_view,slice_no_x,slice_no_y,slice_no_z,fig_size_x,fig_size_y):\n",
    "        plt.figure(figsize=(fig_size_x,fig_size_y))\n",
    "        if slice_view == 'x':\n",
    "            plt.imshow(vol[slice_no_x,:,:],cmap='gray')\n",
    "            plt.show()\n",
    "        elif slice_view == 'y':\n",
    "            plt.imshow(vol[:,slice_no_y,:],cmap='gray')\n",
    "            plt.show()\n",
    "\n",
    "        elif slice_view == 'z':\n",
    "            plt.imshow(vol[:,:,slice_no_z],cmap='gray')\n",
    "            plt.show()\n",
    "            \n",
    "    def slicer_view(self):\n",
    "        if len(self.volume.shape) == 4:\n",
    "            slice_no_x_max = self.volume.shape[0]-1\n",
    "            slice_no_y_max = self.volume.shape[1]-1\n",
    "            slice_no_z_max = self.volume.shape[2]-1\n",
    "            slice_no_t_max = self.volume.shape[3]-1\n",
    "            return interact(self.vol_4d_slice_view,vol = fixed(self.volume),slice_view = ['z','t','x','y'],slice_no_x = (0,slice_no_x_max,1),slice_no_y = (0,slice_no_y_max,1),slice_no_z = (0,slice_no_z_max,1),slice_no_t = (0,slice_no_t_max,1),fig_size_x=(5,8),fig_size_y=(5,8))\n",
    "    \n",
    "        elif len(self.volume.shape) == 3:\n",
    "            slice_no_x_max = self.volume.shape[0]-1\n",
    "            slice_no_y_max = self.volume.shape[1]-1\n",
    "            slice_no_z_max = self.volume.shape[2]-1\n",
    "            return interact(self.vol_3d_slice_view,vol = fixed(self.volume),slice_view = ['z','x','y'],slice_no_x = (0,slice_no_x_max,1),slice_no_y = (0,slice_no_y_max,1),slice_no_z = (0,slice_no_z_max,1),fig_size_x=(5,8),fig_size_y=(5,8))"
   ]
  },
  {
   "cell_type": "code",
   "execution_count": 5,
   "id": "28a77917-3c02-4b7c-93cb-cfddfb1e0858",
   "metadata": {},
   "outputs": [
    {
     "data": {
      "application/vnd.jupyter.widget-view+json": {
       "model_id": "3348d17185f448a1a095826ce7336ad2",
       "version_major": 2,
       "version_minor": 0
      },
      "text/plain": [
       "interactive(children=(Dropdown(description='slice_view', options=('z', 't', 'x', 'y'), value='z'), IntSlider(v…"
      ]
     },
     "metadata": {},
     "output_type": "display_data"
    },
    {
     "data": {
      "text/plain": [
       "<function ipywidgets.widgets.interaction._InteractFactory.__call__.<locals>.<lambda>(*args, **kwargs)>"
      ]
     },
     "execution_count": 5,
     "metadata": {},
     "output_type": "execute_result"
    }
   ],
   "source": [
    "f = h5py.File(\"/home/arun/datasets/M_M/Training/Labeled/h5/A1D0Q7_sa.h5\",'r')\n",
    "np_data = f[\"inpVol\"]\n",
    "\n",
    "slice_viewer = slicer(np_data,crop_size = 154)\n",
    "slice_viewer.slicer_view()"
   ]
  },
  {
   "cell_type": "code",
   "execution_count": 6,
   "id": "fe02fd03-ecf1-45eb-9a76-78472bbfd917",
   "metadata": {},
   "outputs": [],
   "source": [
    "f.close()"
   ]
  },
  {
   "cell_type": "code",
   "execution_count": null,
   "id": "027c9666-358b-49ac-89ec-5d8dda45ab39",
   "metadata": {},
   "outputs": [],
   "source": []
  }
 ],
 "metadata": {
  "kernelspec": {
   "display_name": "Python 3 (ipykernel)",
   "language": "python",
   "name": "python3"
  },
  "language_info": {
   "codemirror_mode": {
    "name": "ipython",
    "version": 3
   },
   "file_extension": ".py",
   "mimetype": "text/x-python",
   "name": "python",
   "nbconvert_exporter": "python",
   "pygments_lexer": "ipython3",
   "version": "3.8.10"
  }
 },
 "nbformat": 4,
 "nbformat_minor": 5
}
