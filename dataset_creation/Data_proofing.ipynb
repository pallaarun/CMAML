{
 "cells": [
  {
   "cell_type": "code",
   "execution_count": 1,
   "id": "95f191ac-2026-41a1-9e7f-7a11e6bdf922",
   "metadata": {},
   "outputs": [],
   "source": [
    "import glob\n",
    "import h5py as h5\n",
    "import numpy as np\n",
    "import matplotlib.pyplot as plt\n",
    "from tqdm.notebook import tqdm"
   ]
  },
  {
   "cell_type": "code",
   "execution_count": 2,
   "id": "783b252f-7d72-4579-9bad-ed24bafb7df7",
   "metadata": {},
   "outputs": [],
   "source": [
    "blank_slice_dict = {}"
   ]
  },
  {
   "cell_type": "code",
   "execution_count": 3,
   "id": "f4216aa7-ac94-414c-b6f0-0b50a61b8f52",
   "metadata": {
    "tags": []
   },
   "outputs": [
    {
     "data": {
      "application/vnd.jupyter.widget-view+json": {
       "model_id": "98e6d1b1f53b4ab9924e6caf533e8bf9",
       "version_major": 2,
       "version_minor": 0
      },
      "text/plain": [
       "  0%|          | 0/60 [00:00<?, ?it/s]"
      ]
     },
     "metadata": {},
     "output_type": "display_data"
    }
   ],
   "source": [
    "for file_name in tqdm(glob.glob('/home/arun/dummy/**.h5')):\n",
    "    f = h5.File(file_name,'r')\n",
    "\n",
    "    _,_,no_of_slices,no_of_frames = f[\"crp_inp\"].shape\n",
    "    middle_slice_no = no_of_slices//2\n",
    "    for frame_idx in range(0,no_of_frames):\n",
    "        if np.max(f[\"crp_inp\"][:,:,middle_slice_no,frame_idx]) == 0:\n",
    "            blank_slice_dict[file_name] = []\n",
    "            break\n",
    "\n",
    "    if file_name in blank_slice_dict:\n",
    "        for frame_idx in range(0,no_of_frames):\n",
    "            if np.max(f[\"crp_inp\"][:,:,middle_slice_no,frame_idx]) == 0:\n",
    "                blank_slice_dict[file_name].append(frame_idx)\n",
    "    f.close()"
   ]
  },
  {
   "cell_type": "code",
   "execution_count": 8,
   "id": "81e2dc42-abce-433d-93c4-d67b3cc5cd3a",
   "metadata": {},
   "outputs": [],
   "source": [
    "f = h5.File(file_name,'r')\n",
    "kk = f[\"crp_inp\"]\n",
    "# f.close()"
   ]
  },
  {
   "cell_type": "code",
   "execution_count": 9,
   "id": "b81a7c5d-d923-4b2b-9644-c8eab6f0c389",
   "metadata": {},
   "outputs": [
    {
     "data": {
      "text/plain": [
       "(128, 128, 6, 10)"
      ]
     },
     "execution_count": 9,
     "metadata": {},
     "output_type": "execute_result"
    }
   ],
   "source": [
    "kk.shape"
   ]
  },
  {
   "cell_type": "code",
   "execution_count": 10,
   "id": "08103f35-1445-4822-a2cf-2a13e7c5b523",
   "metadata": {},
   "outputs": [
    {
     "data": {
      "text/plain": [
       "<matplotlib.image.AxesImage at 0x7f5b824514c0>"
      ]
     },
     "execution_count": 10,
     "metadata": {},
     "output_type": "execute_result"
    },
    {
     "data": {
      "image/png": "[encoded data removed]",
      "text/plain": [
       "<Figure size 432x288 with 1 Axes>"
      ]
     },
     "metadata": {
      "needs_background": "light"
     },
     "output_type": "display_data"
    }
   ],
   "source": [
    "plt.imshow(np.abs(kk[:,:,3,9]),cmap = \"gray\")"
   ]
  },
  {
   "cell_type": "code",
   "execution_count": 22,
   "id": "cf85c6be-99f3-4ac1-9f9d-4b31f713ac7b",
   "metadata": {},
   "outputs": [],
   "source": [
    "# import pandas as pd\n",
    "\n",
    "# dict1 = {\"number of storage arrays\": 45, \"number of ports\":2390}\n",
    "\n",
    "# df = pd.DataFrame(data=dict1, index=[0])\n",
    "\n",
    "# df = (df.T)\n",
    "\n",
    "# print (df)\n",
    "\n",
    "# df.to_excel('dict1.xlsx')"
   ]
  },
  {
   "cell_type": "code",
   "execution_count": 27,
   "id": "f5c096fd-d3e7-44fe-b93e-b8d868a03708",
   "metadata": {
    "tags": []
   },
   "outputs": [
    {
     "data": {
      "text/plain": [
       "('/home/arun/datasets/artifact_suppression/Motion/07/train_support/patient081.h5',\n",
       " 2)"
      ]
     },
     "execution_count": 27,
     "metadata": {},
     "output_type": "execute_result"
    }
   ],
   "source": [
    "empty_dict['empty_file_name'][1],empty_dict['empty_time_frame'][1]"
   ]
  },
  {
   "cell_type": "code",
   "execution_count": 28,
   "id": "050aae2a-9737-43b7-b58d-44d6c7e39efc",
   "metadata": {},
   "outputs": [],
   "source": [
    "f = h5.File(empty_dict['empty_file_name'][1],'r')\n",
    "# f.close()"
   ]
  },
  {
   "cell_type": "code",
   "execution_count": 30,
   "id": "4122c1ff-8096-490c-a96c-77f7f9b696a8",
   "metadata": {},
   "outputs": [
    {
     "data": {
      "text/plain": [
       "<KeysViewHDF5 ['crp_gt', 'crp_inp', 'gt', 'inp', 'x_center', 'y_center']>"
      ]
     },
     "execution_count": 30,
     "metadata": {},
     "output_type": "execute_result"
    }
   ],
   "source": [
    "f.keys()"
   ]
  },
  {
   "cell_type": "code",
   "execution_count": 51,
   "id": "f76d0a30-06d7-4149-90cc-b15508cf2d9e",
   "metadata": {},
   "outputs": [
    {
     "data": {
      "text/plain": [
       "((128, 128, 8, 5), (128, 128, 8, 5))"
      ]
     },
     "execution_count": 51,
     "metadata": {},
     "output_type": "execute_result"
    }
   ],
   "source": [
    "f['crp_gt'].shape,f[\"crp_inp\"].shape"
   ]
  },
  {
   "cell_type": "code",
   "execution_count": 30,
   "id": "ab0155d8-9d60-4abf-b12e-efdbc69091e3",
   "metadata": {},
   "outputs": [
    {
     "data": {
      "text/plain": [
       "<matplotlib.image.AxesImage at 0x7f5511f03190>"
      ]
     },
     "execution_count": 30,
     "metadata": {},
     "output_type": "execute_result"
    },
    {
     "data": {
      "image/png": "[encoded data removed]",
      "text/plain": [
       "<Figure size 432x288 with 1 Axes>"
      ]
     },
     "metadata": {
      "needs_background": "light"
     },
     "output_type": "display_data"
    }
   ],
   "source": [
    "plt.imshow(np.abs(f[\"crp_inp\"][:,:,7,2]),cmap = \"gray\")"
   ]
  },
  {
   "cell_type": "code",
   "execution_count": 40,
   "id": "fbf56293-e93f-490d-b48d-ee5d02ac6926",
   "metadata": {},
   "outputs": [
    {
     "data": {
      "text/plain": [
       "<matplotlib.image.AxesImage at 0x7fb1fe5cffd0>"
      ]
     },
     "execution_count": 40,
     "metadata": {},
     "output_type": "execute_result"
    },
    {
     "data": {
      "image/png": "[encoded data removed]",
      "text/plain": [
       "<Figure size 432x288 with 1 Axes>"
      ]
     },
     "metadata": {
      "needs_background": "light"
     },
     "output_type": "display_data"
    }
   ],
   "source": [
    "plt.imshow(np.abs(f[\"crp_inp\"][:,:,7,4]),cmap = \"gray\")"
   ]
  },
  {
   "cell_type": "code",
   "execution_count": 44,
   "id": "f8b154d6-8e95-4dfd-9cb6-21d8e7695e90",
   "metadata": {},
   "outputs": [
    {
     "data": {
      "text/plain": [
       "0.0"
      ]
     },
     "execution_count": 44,
     "metadata": {},
     "output_type": "execute_result"
    }
   ],
   "source": [
    "np.max(np.abs(f[\"crp_inp\"])[:,:,:,4])"
   ]
  }
 ],
 "metadata": {
  "kernelspec": {
   "display_name": "Python 3 (ipykernel)",
   "language": "python",
   "name": "python3"
  },
  "language_info": {
   "codemirror_mode": {
    "name": "ipython",
    "version": 3
   },
   "file_extension": ".py",
   "mimetype": "text/x-python",
   "name": "python",
   "nbconvert_exporter": "python",
   "pygments_lexer": "ipython3",
   "version": "3.8.10"
  }
 },
 "nbformat": 4,
 "nbformat_minor": 5
}
