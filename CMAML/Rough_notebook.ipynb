{
 "cells": [
  {
   "cell_type": "code",
   "execution_count": 2,
   "id": "2d6fd6b2-23fc-4174-b519-a2a611e51b06",
   "metadata": {},
   "outputs": [],
   "source": [
    "import h5py\n",
    "import glob"
   ]
  },
  {
   "cell_type": "code",
   "execution_count": 7,
   "id": "ceede12a-8b3e-4035-b7ee-46ff9cfda96f",
   "metadata": {},
   "outputs": [
    {
     "data": {
      "text/plain": [
       "(128, 128, 12, 6)"
      ]
     },
     "execution_count": 7,
     "metadata": {},
     "output_type": "execute_result"
    }
   ],
   "source": [
    "disp_file_name = glob.glob(\"/home/arun/experiments/maml/Eleven_tasks_FirstOrder_noScheduler/results_unseen/Motion/amount_05/patient095.h5\")[0]\n",
    "\n",
    "f = h5py.File(disp_file_name,'r')\n",
    "f[\"reconstruction\"].shape"
   ]
  },
  {
   "cell_type": "code",
   "execution_count": 18,
   "id": "39a91060-ffcf-4ea8-aeac-722eae819f2e",
   "metadata": {},
   "outputs": [
    {
     "data": {
      "text/plain": [
       "(128, 128, 5, 9)"
      ]
     },
     "execution_count": 18,
     "metadata": {},
     "output_type": "execute_result"
    }
   ],
   "source": [
    "disp_file_name = glob.glob(\"/media/Data/MRI/datasets/artifact_suppression/Motion/03/valid_query/patient022.h5\")[0]\n",
    "\n",
    "f = h5py.File(disp_file_name,'r')\n",
    "f[\"crp_inp\"].shape"
   ]
  },
  {
   "cell_type": "code",
   "execution_count": 19,
   "id": "29d3173d-bcfa-4d2f-b334-3777fe53ca50",
   "metadata": {},
   "outputs": [
    {
     "data": {
      "text/plain": [
       "435"
      ]
     },
     "execution_count": 19,
     "metadata": {},
     "output_type": "execute_result"
    }
   ],
   "source": [
    "48+30+36+48+42+(14*4)+70+15+18+(12*6)"
   ]
  },
  {
   "cell_type": "code",
   "execution_count": 15,
   "id": "8f557215-31d5-4cd8-a3a4-b2a7af314ab6",
   "metadata": {},
   "outputs": [
    {
     "data": {
      "text/plain": [
       "('/home/arun/experiments/maml/Eleven_tasks_FirstOrder_noScheduler/results_valid/Motion/amount_03/patient082.h5',\n",
       " '/media/Data/MRI/datasets/artifact_suppression/Motion/03/valid_query/patient033.h5')"
      ]
     },
     "execution_count": 15,
     "metadata": {},
     "output_type": "execute_result"
    }
   ],
   "source": [
    "disp_file_name,kk"
   ]
  },
  {
   "cell_type": "code",
   "execution_count": 16,
   "id": "07dc346a-3046-4475-8a9a-4a3f5498d9f6",
   "metadata": {},
   "outputs": [
    {
     "data": {
      "text/plain": [
       "(128, 128, 14, 6)"
      ]
     },
     "execution_count": 16,
     "metadata": {},
     "output_type": "execute_result"
    }
   ],
   "source": [
    "kk = glob.glob(\"/media/Data/MRI/datasets/artifact_suppression/Motion/03/valid_query/patient082.h5\")[0]\n",
    "g = h5py.File(kk,'r')\n",
    "g[\"crp_inp\"].shape"
   ]
  },
  {
   "cell_type": "code",
   "execution_count": 1,
   "id": "ac66e409-59e3-4787-a2f1-b8785ded4b53",
   "metadata": {},
   "outputs": [
    {
     "ename": "TypeError",
     "evalue": "unsupported operand type(s) for /: 'str' and 'str'",
     "output_type": "error",
     "traceback": [
      "\u001b[0;31m---------------------------------------------------------------------------\u001b[0m",
      "\u001b[0;31mTypeError\u001b[0m                                 Traceback (most recent call last)",
      "Input \u001b[0;32mIn [1]\u001b[0m, in \u001b[0;36m<cell line: 1>\u001b[0;34m()\u001b[0m\n\u001b[0;32m----> 1\u001b[0m \u001b[38;5;28mstr\u001b[39m(\u001b[38;5;124;43m\"\u001b[39;49m\u001b[38;5;124;43mab\u001b[39;49m\u001b[38;5;124;43m\"\u001b[39;49m\u001b[43m \u001b[49m\u001b[38;5;241;43m/\u001b[39;49m\u001b[43m \u001b[49m\u001b[38;5;124;43m\"\u001b[39;49m\u001b[38;5;124;43mcd\u001b[39;49m\u001b[38;5;124;43m\"\u001b[39;49m)\n",
      "\u001b[0;31mTypeError\u001b[0m: unsupported operand type(s) for /: 'str' and 'str'"
     ]
    }
   ],
   "source": [
    "str(\"ab\" / \"cd\")"
   ]
  },
  {
   "cell_type": "code",
   "execution_count": 6,
   "id": "3f396700-3e8b-4944-971c-1add1df0109d",
   "metadata": {},
   "outputs": [
    {
     "data": {
      "text/plain": [
       "3"
      ]
     },
     "execution_count": 6,
     "metadata": {},
     "output_type": "execute_result"
    }
   ],
   "source": [
    "a = [1,2,3,4,2,4,1]\n",
    "a.index(4)"
   ]
  },
  {
   "cell_type": "code",
   "execution_count": 21,
   "id": "15f2ed5f-4172-4827-a859-4da864360bae",
   "metadata": {},
   "outputs": [],
   "source": [
    "import numpy as np\n",
    "from skimage.filters import laplace\n",
    "from skimage.metrics import peak_signal_noise_ratio, structural_similarity"
   ]
  },
  {
   "cell_type": "code",
   "execution_count": 7,
   "id": "aac5a7ee-08a0-4e5d-88c8-39ddb2926923",
   "metadata": {},
   "outputs": [],
   "source": [
    "gt = np.random.rand(128,128,6,9)\n",
    "pred = np.random.rand(128,128,6,9)"
   ]
  },
  {
   "cell_type": "code",
   "execution_count": 8,
   "id": "2670c921-1935-4c60-a4f2-8b6603583cec",
   "metadata": {},
   "outputs": [
    {
     "data": {
      "text/plain": [
       "7.781040087238899"
      ]
     },
     "execution_count": 8,
     "metadata": {},
     "output_type": "execute_result"
    }
   ],
   "source": [
    "peak_signal_noise_ratio(gt, pred, data_range=gt.max())"
   ]
  },
  {
   "cell_type": "code",
   "execution_count": 9,
   "id": "6b9f37c2-254c-41b9-9d2e-a04b8feffc74",
   "metadata": {},
   "outputs": [
    {
     "data": {
      "text/plain": [
       "0.16668460731226312"
      ]
     },
     "execution_count": 9,
     "metadata": {},
     "output_type": "execute_result"
    }
   ],
   "source": [
    "np.mean((gt - pred) ** 2)"
   ]
  },
  {
   "cell_type": "code",
   "execution_count": 10,
   "id": "bcccd631-fb39-4776-987b-ff8cfc969334",
   "metadata": {},
   "outputs": [
    {
     "data": {
      "text/plain": [
       "0.4996759331104287"
      ]
     },
     "execution_count": 10,
     "metadata": {},
     "output_type": "execute_result"
    }
   ],
   "source": [
    "np.linalg.norm(gt - pred) ** 2 / np.linalg.norm(gt) ** 2"
   ]
  },
  {
   "cell_type": "code",
   "execution_count": 18,
   "id": "7d32057a-3dbe-4eb9-aedf-ce8cd7f95c38",
   "metadata": {},
   "outputs": [
    {
     "name": "stderr",
     "output_type": "stream",
     "text": [
      "/tmp/ipykernel_1187103/1061801940.py:1: FutureWarning: `multichannel` is a deprecated argument name for `structural_similarity`. It will be removed in version 1.0. Please use `channel_axis` instead.\n",
      "  structural_similarity(gt,pred,multichannel=True, data_range=gt.max(),win_size = 5)\n"
     ]
    },
    {
     "data": {
      "text/plain": [
       "0.004987645875791523"
      ]
     },
     "execution_count": 18,
     "metadata": {},
     "output_type": "execute_result"
    }
   ],
   "source": [
    "structural_similarity(gt,pred,multichannel=True, data_range=gt.max(),win_size = 5)"
   ]
  },
  {
   "cell_type": "code",
   "execution_count": 27,
   "id": "8f541a19-7584-45a2-a63f-32769962a155",
   "metadata": {},
   "outputs": [],
   "source": [
    "def hfn(gt,pred):\n",
    "\n",
    "    hfn_total = []\n",
    "\n",
    "    for frame_no in range(gt.shape[3]):\n",
    "        for slice_no in range(gt.shape[2]):\n",
    "            gt_slice = gt[:,:,slice_no,frame_no]\n",
    "            pred_slice = pred[:,:,slice_no,frame_no]\n",
    "\n",
    "            pred_slice[pred_slice<0] = 0 #bring the range to 0 and 1.\n",
    "            pred_slice[pred_slice>1] = 1\n",
    "\n",
    "            gt_slice_laplace = laplace(gt_slice)        \n",
    "            pred_slice_laplace = laplace(pred_slice)\n",
    "\n",
    "            hfn_slice = np.sum((gt_slice_laplace - pred_slice_laplace) ** 2) / np.sum(gt_slice_laplace **2)\n",
    "            hfn_total.append(hfn_slice)\n",
    "\n",
    "    return np.mean(hfn_total)"
   ]
  },
  {
   "cell_type": "code",
   "execution_count": 32,
   "id": "7f86727e-76d2-4772-919e-5b8fa2278ccc",
   "metadata": {},
   "outputs": [
    {
     "data": {
      "text/plain": [
       "1.991404984554558"
      ]
     },
     "execution_count": 32,
     "metadata": {},
     "output_type": "execute_result"
    }
   ],
   "source": [
    "hfn(gt,pred)"
   ]
  },
  {
   "cell_type": "code",
   "execution_count": 36,
   "id": "6ae9a4ec-3fa9-4a83-b63d-077e75071efa",
   "metadata": {},
   "outputs": [
    {
     "data": {
      "text/plain": [
       "1"
      ]
     },
     "execution_count": 36,
     "metadata": {},
     "output_type": "execute_result"
    }
   ],
   "source": [
    "a = 5\n",
    "a % 2"
   ]
  },
  {
   "cell_type": "code",
   "execution_count": 12,
   "id": "19f439fc-a07c-4a7b-abbd-cd0ee0c909fe",
   "metadata": {},
   "outputs": [
    {
     "name": "stdout",
     "output_type": "stream",
     "text": [
      "0\n"
     ]
    }
   ],
   "source": [
    "import numpy as np\n",
    "a = [1,4,7]\n",
    "b = 1\n",
    "if b in a:\n",
    "    print(a.index(b))"
   ]
  },
  {
   "cell_type": "code",
   "execution_count": 34,
   "id": "15414ab1-3870-4506-8cbc-dcc516855d08",
   "metadata": {},
   "outputs": [
    {
     "data": {
      "image/png": "[encoded data removed]",
      "text/plain": [
       "<Figure size 432x288 with 1 Axes>"
      ]
     },
     "metadata": {
      "needs_background": "light"
     },
     "output_type": "display_data"
    }
   ],
   "source": [
    "import pandas as pd\n",
    "import numpy as np\n",
    "\n",
    "df = pd.DataFrame(np.random.rand(10, 5), columns=['A', 'B', 'C', 'D', 'E'])\n",
    "myFig = plt.figure()\n",
    "# a = df.plot.box(grid='True')\n",
    "a = df.boxplot()\n",
    "myFig.savefig(\"dummy.png\",format=\"png\")"
   ]
  },
  {
   "cell_type": "code",
   "execution_count": 3,
   "id": "42996050-34c4-4240-8e1c-f46311d621c4",
   "metadata": {},
   "outputs": [
    {
     "data": {
      "text/html": [
       "<div>\n",
       "<style scoped>\n",
       "    .dataframe tbody tr th:only-of-type {\n",
       "        vertical-align: middle;\n",
       "    }\n",
       "\n",
       "    .dataframe tbody tr th {\n",
       "        vertical-align: top;\n",
       "    }\n",
       "\n",
       "    .dataframe thead th {\n",
       "        text-align: right;\n",
       "    }\n",
       "</style>\n",
       "<table border=\"1\" class=\"dataframe\">\n",
       "  <thead>\n",
       "    <tr style=\"text-align: right;\">\n",
       "      <th></th>\n",
       "      <th>a</th>\n",
       "      <th>b</th>\n",
       "    </tr>\n",
       "  </thead>\n",
       "  <tbody>\n",
       "  </tbody>\n",
       "</table>\n",
       "</div>"
      ],
      "text/plain": [
       "Empty DataFrame\n",
       "Columns: [a, b]\n",
       "Index: []"
      ]
     },
     "execution_count": 3,
     "metadata": {},
     "output_type": "execute_result"
    }
   ],
   "source": [
    "import pandas as pd\n",
    "kk = [\"a\",\"b\"]\n",
    "ll = pd.DataFrame(columns = kk)\n",
    "ll"
   ]
  },
  {
   "cell_type": "code",
   "execution_count": 7,
   "id": "e39f0311-50dd-4b6c-8aa0-4f4c4b581fe2",
   "metadata": {},
   "outputs": [],
   "source": [
    "bp_df = pd.DataFrame()\n",
    "metrics_dict = {\"m/03\":{\"psnr\":[10,20],\"ssim\":[30,40]},\"s/02\":{\"psnr\":[8,18],\"ssim\":[28,38]},\"u/04\":{\"psnr\":[6,16],\"ssim\":[26,36]}}\n",
    "for one_task,one_task_metric_dict in metrics_dict.items():\n",
    "    for metric_name,metric_value in one_task_metric_dict.items():\n",
    "        bp_df[one_task+\"/\"+metric_name] = metric_value"
   ]
  },
  {
   "cell_type": "code",
   "execution_count": 15,
   "id": "ba41af56-e6ed-44e2-944e-7ca22447bf26",
   "metadata": {},
   "outputs": [
    {
     "data": {
      "text/plain": [
       "{'PSNR': [], 'SSIM': [], 'mse': [], 'nmse': [], 'fname': []}"
      ]
     },
     "execution_count": 15,
     "metadata": {},
     "output_type": "execute_result"
    }
   ],
   "source": [
    "metrics_names = [\"PSNR\",\"SSIM\",\"mse\",\"nmse\",\"fname\"]\n",
    "kk = {ll:[] for ll in metrics_names}\n",
    "kk"
   ]
  },
  {
   "cell_type": "code",
   "execution_count": 16,
   "id": "4593fa54-c9b6-49a5-9da3-0c1d6469e92c",
   "metadata": {},
   "outputs": [
    {
     "data": {
      "text/plain": [
       "'PSNR'"
      ]
     },
     "execution_count": 16,
     "metadata": {},
     "output_type": "execute_result"
    }
   ],
   "source": [
    "metrics_names[0]"
   ]
  },
  {
   "cell_type": "code",
   "execution_count": 18,
   "id": "05538be6-7e36-4d21-8376-5bd2077257dd",
   "metadata": {},
   "outputs": [
    {
     "ename": "FileNotFoundError",
     "evalue": "[Errno 2] No such file or directory: '/home/arun/dummy/dummy.txt'",
     "output_type": "error",
     "traceback": [
      "\u001b[0;31m---------------------------------------------------------------------------\u001b[0m",
      "\u001b[0;31mFileNotFoundError\u001b[0m                         Traceback (most recent call last)",
      "Input \u001b[0;32mIn [18]\u001b[0m, in \u001b[0;36m<cell line: 1>\u001b[0;34m()\u001b[0m\n\u001b[0;32m----> 1\u001b[0m \u001b[38;5;28;01mwith\u001b[39;00m \u001b[38;5;28;43mopen\u001b[39;49m\u001b[43m(\u001b[49m\u001b[38;5;124;43m\"\u001b[39;49m\u001b[38;5;124;43m/home/arun/dummy/dummy.txt\u001b[39;49m\u001b[38;5;124;43m\"\u001b[39;49m\u001b[43m,\u001b[49m\u001b[38;5;124;43m\"\u001b[39;49m\u001b[38;5;124;43mw\u001b[39;49m\u001b[38;5;124;43m\"\u001b[39;49m\u001b[43m)\u001b[49m \u001b[38;5;28;01mas\u001b[39;00m f:\n\u001b[1;32m      2\u001b[0m     f\u001b[38;5;241m.\u001b[39mwrite(\u001b[38;5;241m1\u001b[39m)\n",
      "\u001b[0;31mFileNotFoundError\u001b[0m: [Errno 2] No such file or directory: '/home/arun/dummy/dummy.txt'"
     ]
    }
   ],
   "source": [
    "with open(\"/home/arun/dummy/dummy.txt\",\"w\") as f:\n",
    "    f.write(1)"
   ]
  },
  {
   "cell_type": "code",
   "execution_count": 5,
   "id": "93907712-f6cb-4976-a523-12648f838f95",
   "metadata": {},
   "outputs": [
    {
     "data": {
      "text/plain": [
       "'Mo'"
      ]
     },
     "execution_count": 5,
     "metadata": {},
     "output_type": "execute_result"
    }
   ],
   "source": [
    "kk = \"Motion\"\n",
    "kk[0:2]"
   ]
  },
  {
   "cell_type": "code",
   "execution_count": null,
   "id": "37d8c36b-016d-42b9-bc3c-5e8efd1cec35",
   "metadata": {},
   "outputs": [],
   "source": [
    "\"{}_dummy_{}\".format(5,6)"
   ]
  },
  {
   "cell_type": "code",
   "execution_count": 1,
   "id": "3449f2ff-3e65-4131-9406-249a28e96ecd",
   "metadata": {},
   "outputs": [
    {
     "data": {
      "text/plain": [
       "'2'"
      ]
     },
     "execution_count": 1,
     "metadata": {},
     "output_type": "execute_result"
    }
   ],
   "source": [
    "kk = \"1,2,3\"\n",
    "kk.split(\",\")[1]"
   ]
  },
  {
   "cell_type": "code",
   "execution_count": 2,
   "id": "ac2fa1ba-da5f-4539-ba78-f31a8dca2c9b",
   "metadata": {},
   "outputs": [
    {
     "data": {
      "text/plain": [
       "['a']"
      ]
     },
     "execution_count": 2,
     "metadata": {},
     "output_type": "execute_result"
    }
   ],
   "source": [
    "kk = 'a'\n",
    "kk.split(\",\")"
   ]
  },
  {
   "cell_type": "code",
   "execution_count": 1,
   "id": "3a27d501-86b9-454f-9871-edcbf27c20b7",
   "metadata": {},
   "outputs": [],
   "source": [
    "import torch"
   ]
  },
  {
   "cell_type": "code",
   "execution_count": 2,
   "id": "f32e72ee-3a09-46f7-b650-e3a5e1983c5d",
   "metadata": {},
   "outputs": [
    {
     "data": {
      "text/plain": [
       "Namespace(adapt_lr=0.001, checkpoint=None, data_parallel=False, degradation_names='MotionM/03,SpatialM/02,UndersamplingM/02,MotionM/05,SpatialM/03,UndersamplingM/04,MotionM/07,SpatialM/05,UndersamplingM/06', device='cuda:0', difficult_task_strings='MotionM/07,SpatialM/05,UndersamplingM/06', drop_prob=0.0, easy_task_strings='MotionM/03,SpatialM/02,UndersamplingM/02', exp_dir=PosixPath('/home/arun/experiments/maml/1_5_11_MM_Curriculum_Nine_tasks_FirstOrder_noScheduler'), lr_gamma=0.1, lr_step_size=40, medium_task_strings='MotionM/05,SpatialM/03,UndersamplingM/04', meta_lr=0.001, no_of_train_adaptation_steps=3, no_of_val_adaptation_steps=3, num_chans=32, num_epochs=200, num_pools=4, pacing_function=['1', '5', '11'], pacing_no_of_train_adaptation_steps=['1', '2', '3'], pacing_no_of_val_adaptation_steps=['1', '2', '3'], report_interval=1, resume=False, scored_task_strings=['MotionM/03,SpatialM/02,UndersamplingM/02', 'MotionM/03,SpatialM/02,UndersamplingM/02,MotionM/05,SpatialM/03,UndersamplingM/04', 'MotionM/03,SpatialM/02,UndersamplingM/02,MotionM/05,SpatialM/03,UndersamplingM/04,MotionM/07,SpatialM/05,UndersamplingM/06'], seed=42, task_strings='MotionM/03,SpatialM/02,UndersamplingM/02,MotionM/05,SpatialM/03,UndersamplingM/04,MotionM/07,SpatialM/05,UndersamplingM/06', train_path='/media/Data/MRI/datasets/MM_artifact_suppression', train_query_batch_size=5, train_support_batch_size=5, train_task_batch_size=3, val_query_batch_size=5, val_support_batch_size=5, val_task_batch_size=3, validation_path=None, visualize_task_string='MotionM/05', weight_decay=0.0)"
      ]
     },
     "execution_count": 2,
     "metadata": {},
     "output_type": "execute_result"
    }
   ],
   "source": [
    "path = \"/home/arun/experiments/maml/MM_Curriculum_Nine_tasks_FirstOrder_noScheduler/best_model.pt\"\n",
    "torch.load(path)[\"args\"]"
   ]
  },
  {
   "cell_type": "code",
   "execution_count": null,
   "id": "8a630723-1349-4a64-95d8-46b33f5e746f",
   "metadata": {},
   "outputs": [],
   "source": []
  }
 ],
 "metadata": {
  "kernelspec": {
   "display_name": "Python 3 (ipykernel)",
   "language": "python",
   "name": "python3"
  },
  "language_info": {
   "codemirror_mode": {
    "name": "ipython",
    "version": 3
   },
   "file_extension": ".py",
   "mimetype": "text/x-python",
   "name": "python",
   "nbconvert_exporter": "python",
   "pygments_lexer": "ipython3",
   "version": "3.8.10"
  }
 },
 "nbformat": 4,
 "nbformat_minor": 5
}
