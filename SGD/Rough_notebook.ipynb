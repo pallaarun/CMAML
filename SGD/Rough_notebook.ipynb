{
 "cells": [
  {
   "cell_type": "code",
   "execution_count": 1,
   "id": "acaf6aeb-4f7c-4f13-8658-ee004a6e8e0b",
   "metadata": {},
   "outputs": [],
   "source": [
    "arg_path = \"/home/arun/experiments/sgd/ISBI_MM_Nine_tasks_FirstOrder_noScheduler_SGD/best_model.pt\""
   ]
  },
  {
   "cell_type": "code",
   "execution_count": 3,
   "id": "bb232d66-cdde-4929-b434-7d1fa966c992",
   "metadata": {},
   "outputs": [],
   "source": [
    "import torch"
   ]
  },
  {
   "cell_type": "code",
   "execution_count": 8,
   "id": "c860f1b2-1131-4673-9062-8f8194bb44ce",
   "metadata": {},
   "outputs": [],
   "source": [
    "# torch.load(arg_path)[\"args\"]"
   ]
  }
 ],
 "metadata": {
  "kernelspec": {
   "display_name": "Python 3 (ipykernel)",
   "language": "python",
   "name": "python3"
  },
  "language_info": {
   "codemirror_mode": {
    "name": "ipython",
    "version": 3
   },
   "file_extension": ".py",
   "mimetype": "text/x-python",
   "name": "python",
   "nbconvert_exporter": "python",
   "pygments_lexer": "ipython3",
   "version": "3.8.10"
  }
 },
 "nbformat": 4,
 "nbformat_minor": 5
}
