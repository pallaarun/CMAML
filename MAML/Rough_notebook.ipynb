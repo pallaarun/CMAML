{
 "cells": [
  {
   "cell_type": "code",
   "execution_count": 2,
   "id": "2d6fd6b2-23fc-4174-b519-a2a611e51b06",
   "metadata": {},
   "outputs": [],
   "source": [
    "import h5py\n",
    "import glob"
   ]
  },
  {
   "cell_type": "code",
   "execution_count": 7,
   "id": "ceede12a-8b3e-4035-b7ee-46ff9cfda96f",
   "metadata": {},
   "outputs": [
    {
     "data": {
      "text/plain": [
       "(128, 128, 12, 6)"
      ]
     },
     "execution_count": 7,
     "metadata": {},
     "output_type": "execute_result"
    }
   ],
   "source": [
    "disp_file_name = glob.glob(\"/home/arun/experiments/maml/Eleven_tasks_FirstOrder_noScheduler/results_unseen/Motion/amount_05/patient095.h5\")[0]\n",
    "\n",
    "f = h5py.File(disp_file_name,'r')\n",
    "f[\"reconstruction\"].shape"
   ]
  },
  {
   "cell_type": "code",
   "execution_count": 18,
   "id": "39a91060-ffcf-4ea8-aeac-722eae819f2e",
   "metadata": {},
   "outputs": [
    {
     "data": {
      "text/plain": [
       "(128, 128, 5, 9)"
      ]
     },
     "execution_count": 18,
     "metadata": {},
     "output_type": "execute_result"
    }
   ],
   "source": [
    "disp_file_name = glob.glob(\"/media/Data/MRI/datasets/artifact_suppression/Motion/03/valid_query/patient022.h5\")[0]\n",
    "\n",
    "f = h5py.File(disp_file_name,'r')\n",
    "f[\"crp_inp\"].shape"
   ]
  },
  {
   "cell_type": "code",
   "execution_count": 19,
   "id": "29d3173d-bcfa-4d2f-b334-3777fe53ca50",
   "metadata": {},
   "outputs": [
    {
     "data": {
      "text/plain": [
       "435"
      ]
     },
     "execution_count": 19,
     "metadata": {},
     "output_type": "execute_result"
    }
   ],
   "source": [
    "48+30+36+48+42+(14*4)+70+15+18+(12*6)"
   ]
  },
  {
   "cell_type": "code",
   "execution_count": 15,
   "id": "8f557215-31d5-4cd8-a3a4-b2a7af314ab6",
   "metadata": {},
   "outputs": [
    {
     "data": {
      "text/plain": [
       "('/home/arun/experiments/maml/Eleven_tasks_FirstOrder_noScheduler/results_valid/Motion/amount_03/patient082.h5',\n",
       " '/media/Data/MRI/datasets/artifact_suppression/Motion/03/valid_query/patient033.h5')"
      ]
     },
     "execution_count": 15,
     "metadata": {},
     "output_type": "execute_result"
    }
   ],
   "source": [
    "disp_file_name,kk"
   ]
  },
  {
   "cell_type": "code",
   "execution_count": 16,
   "id": "07dc346a-3046-4475-8a9a-4a3f5498d9f6",
   "metadata": {},
   "outputs": [
    {
     "data": {
      "text/plain": [
       "(128, 128, 14, 6)"
      ]
     },
     "execution_count": 16,
     "metadata": {},
     "output_type": "execute_result"
    }
   ],
   "source": [
    "kk = glob.glob(\"/media/Data/MRI/datasets/artifact_suppression/Motion/03/valid_query/patient082.h5\")[0]\n",
    "g = h5py.File(kk,'r')\n",
    "g[\"crp_inp\"].shape"
   ]
  },
  {
   "cell_type": "code",
   "execution_count": 1,
   "id": "ac66e409-59e3-4787-a2f1-b8785ded4b53",
   "metadata": {},
   "outputs": [
    {
     "ename": "TypeError",
     "evalue": "unsupported operand type(s) for /: 'str' and 'str'",
     "output_type": "error",
     "traceback": [
      "\u001b[0;31m---------------------------------------------------------------------------\u001b[0m",
      "\u001b[0;31mTypeError\u001b[0m                                 Traceback (most recent call last)",
      "Input \u001b[0;32mIn [1]\u001b[0m, in \u001b[0;36m<cell line: 1>\u001b[0;34m()\u001b[0m\n\u001b[0;32m----> 1\u001b[0m \u001b[38;5;28mstr\u001b[39m(\u001b[38;5;124;43m\"\u001b[39;49m\u001b[38;5;124;43mab\u001b[39;49m\u001b[38;5;124;43m\"\u001b[39;49m\u001b[43m \u001b[49m\u001b[38;5;241;43m/\u001b[39;49m\u001b[43m \u001b[49m\u001b[38;5;124;43m\"\u001b[39;49m\u001b[38;5;124;43mcd\u001b[39;49m\u001b[38;5;124;43m\"\u001b[39;49m)\n",
      "\u001b[0;31mTypeError\u001b[0m: unsupported operand type(s) for /: 'str' and 'str'"
     ]
    }
   ],
   "source": [
    "str(\"ab\" / \"cd\")"
   ]
  },
  {
   "cell_type": "code",
   "execution_count": 6,
   "id": "3f396700-3e8b-4944-971c-1add1df0109d",
   "metadata": {},
   "outputs": [
    {
     "data": {
      "text/plain": [
       "3"
      ]
     },
     "execution_count": 6,
     "metadata": {},
     "output_type": "execute_result"
    }
   ],
   "source": [
    "a = [1,2,3,4,2,4,1]\n",
    "a.index(4)"
   ]
  },
  {
   "cell_type": "code",
   "execution_count": 21,
   "id": "15f2ed5f-4172-4827-a859-4da864360bae",
   "metadata": {},
   "outputs": [],
   "source": [
    "import numpy as np\n",
    "from skimage.filters import laplace\n",
    "from skimage.metrics import peak_signal_noise_ratio, structural_similarity"
   ]
  },
  {
   "cell_type": "code",
   "execution_count": 7,
   "id": "aac5a7ee-08a0-4e5d-88c8-39ddb2926923",
   "metadata": {},
   "outputs": [],
   "source": [
    "gt = np.random.rand(128,128,6,9)\n",
    "pred = np.random.rand(128,128,6,9)"
   ]
  },
  {
   "cell_type": "code",
   "execution_count": 8,
   "id": "2670c921-1935-4c60-a4f2-8b6603583cec",
   "metadata": {},
   "outputs": [
    {
     "data": {
      "text/plain": [
       "7.781040087238899"
      ]
     },
     "execution_count": 8,
     "metadata": {},
     "output_type": "execute_result"
    }
   ],
   "source": [
    "peak_signal_noise_ratio(gt, pred, data_range=gt.max())"
   ]
  },
  {
   "cell_type": "code",
   "execution_count": 9,
   "id": "6b9f37c2-254c-41b9-9d2e-a04b8feffc74",
   "metadata": {},
   "outputs": [
    {
     "data": {
      "text/plain": [
       "0.16668460731226312"
      ]
     },
     "execution_count": 9,
     "metadata": {},
     "output_type": "execute_result"
    }
   ],
   "source": [
    "np.mean((gt - pred) ** 2)"
   ]
  },
  {
   "cell_type": "code",
   "execution_count": 10,
   "id": "bcccd631-fb39-4776-987b-ff8cfc969334",
   "metadata": {},
   "outputs": [
    {
     "data": {
      "text/plain": [
       "0.4996759331104287"
      ]
     },
     "execution_count": 10,
     "metadata": {},
     "output_type": "execute_result"
    }
   ],
   "source": [
    "np.linalg.norm(gt - pred) ** 2 / np.linalg.norm(gt) ** 2"
   ]
  },
  {
   "cell_type": "code",
   "execution_count": 18,
   "id": "7d32057a-3dbe-4eb9-aedf-ce8cd7f95c38",
   "metadata": {},
   "outputs": [
    {
     "name": "stderr",
     "output_type": "stream",
     "text": [
      "/tmp/ipykernel_1187103/1061801940.py:1: FutureWarning: `multichannel` is a deprecated argument name for `structural_similarity`. It will be removed in version 1.0. Please use `channel_axis` instead.\n",
      "  structural_similarity(gt,pred,multichannel=True, data_range=gt.max(),win_size = 5)\n"
     ]
    },
    {
     "data": {
      "text/plain": [
       "0.004987645875791523"
      ]
     },
     "execution_count": 18,
     "metadata": {},
     "output_type": "execute_result"
    }
   ],
   "source": [
    "structural_similarity(gt,pred,multichannel=True, data_range=gt.max(),win_size = 5)"
   ]
  },
  {
   "cell_type": "code",
   "execution_count": 27,
   "id": "8f541a19-7584-45a2-a63f-32769962a155",
   "metadata": {},
   "outputs": [],
   "source": [
    "def hfn(gt,pred):\n",
    "\n",
    "    hfn_total = []\n",
    "\n",
    "    for frame_no in range(gt.shape[3]):\n",
    "        for slice_no in range(gt.shape[2]):\n",
    "            gt_slice = gt[:,:,slice_no,frame_no]\n",
    "            pred_slice = pred[:,:,slice_no,frame_no]\n",
    "\n",
    "            pred_slice[pred_slice<0] = 0 #bring the range to 0 and 1.\n",
    "            pred_slice[pred_slice>1] = 1\n",
    "\n",
    "            gt_slice_laplace = laplace(gt_slice)        \n",
    "            pred_slice_laplace = laplace(pred_slice)\n",
    "\n",
    "            hfn_slice = np.sum((gt_slice_laplace - pred_slice_laplace) ** 2) / np.sum(gt_slice_laplace **2)\n",
    "            hfn_total.append(hfn_slice)\n",
    "\n",
    "    return np.mean(hfn_total)"
   ]
  },
  {
   "cell_type": "code",
   "execution_count": 32,
   "id": "7f86727e-76d2-4772-919e-5b8fa2278ccc",
   "metadata": {},
   "outputs": [
    {
     "data": {
      "text/plain": [
       "1.991404984554558"
      ]
     },
     "execution_count": 32,
     "metadata": {},
     "output_type": "execute_result"
    }
   ],
   "source": [
    "hfn(gt,pred)"
   ]
  },
  {
   "cell_type": "code",
   "execution_count": 1,
   "id": "6ae9a4ec-3fa9-4a83-b63d-077e75071efa",
   "metadata": {},
   "outputs": [
    {
     "data": {
      "text/plain": [
       "1"
      ]
     },
     "execution_count": 1,
     "metadata": {},
     "output_type": "execute_result"
    }
   ],
   "source": [
    "a = 5\n",
    "a % 2"
   ]
  },
  {
   "cell_type": "code",
   "execution_count": 3,
   "id": "e6a6b7c7-9848-4a80-9de2-102ec4ef2b1b",
   "metadata": {},
   "outputs": [
    {
     "data": {
      "text/plain": [
       "3.5"
      ]
     },
     "execution_count": 3,
     "metadata": {},
     "output_type": "execute_result"
    }
   ],
   "source": [
    "import numpy as np\n",
    "kk = {\"dummy\":[1,2],\"duplicate\":[3,4]}\n",
    "\n",
    "np.average(kk[\"duplicate\"])"
   ]
  },
  {
   "cell_type": "code",
   "execution_count": 5,
   "id": "6f81c2c1-732d-4915-b1d2-ed73e7fadd41",
   "metadata": {},
   "outputs": [
    {
     "data": {
      "text/plain": [
       "{'a': 0, 'b': 0}"
      ]
     },
     "execution_count": 5,
     "metadata": {},
     "output_type": "execute_result"
    }
   ],
   "source": [
    "{metric_name:0 for metric_name in [\"a\",\"b\"]}"
   ]
  },
  {
   "cell_type": "code",
   "execution_count": 13,
   "id": "3e3978bd-207f-43a8-844a-ed33081e305c",
   "metadata": {},
   "outputs": [
    {
     "data": {
      "text/plain": [
       "['b']"
      ]
     },
     "execution_count": 13,
     "metadata": {},
     "output_type": "execute_result"
    }
   ],
   "source": [
    "ll = [\"a\",\"b\"]\n",
    "if \"a\" in ll:\n",
    "    ll.remove(\"a\")\n",
    "ll"
   ]
  },
  {
   "cell_type": "code",
   "execution_count": 1,
   "id": "91a352d6-58de-4f16-a87b-f4594be09535",
   "metadata": {},
   "outputs": [
    {
     "data": {
      "text/plain": [
       "'1.035_one = 2'"
      ]
     },
     "execution_count": 1,
     "metadata": {},
     "output_type": "execute_result"
    }
   ],
   "source": [
    "\"{:.4g}_one = {}\".format(1.03456788,2)"
   ]
  },
  {
   "cell_type": "code",
   "execution_count": 19,
   "id": "e994627c-918d-468b-ba83-a29d79d8089f",
   "metadata": {},
   "outputs": [
    {
     "data": {
      "text/plain": [
       "0.5"
      ]
     },
     "execution_count": 19,
     "metadata": {},
     "output_type": "execute_result"
    }
   ],
   "source": [
    "a = [1,2]\n",
    "np.std(a)"
   ]
  }
 ],
 "metadata": {
  "kernelspec": {
   "display_name": "Python 3 (ipykernel)",
   "language": "python",
   "name": "python3"
  },
  "language_info": {
   "codemirror_mode": {
    "name": "ipython",
    "version": 3
   },
   "file_extension": ".py",
   "mimetype": "text/x-python",
   "name": "python",
   "nbconvert_exporter": "python",
   "pygments_lexer": "ipython3",
   "version": "3.8.10"
  }
 },
 "nbformat": 4,
 "nbformat_minor": 5
}
